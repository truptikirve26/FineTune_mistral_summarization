{
 "cells": [
  {
   "cell_type": "code",
   "execution_count": null,
   "id": "3bbe2c0b",
   "metadata": {},
   "outputs": [],
   "source": [
    "from huggingface_hub import login\n",
    "\n",
    "# Option 1: Interactive login (Recommended for Colab or local notebook)\n",
    "login()"
   ]
  },
  {
   "cell_type": "code",
   "execution_count": null,
   "id": "f12677d0",
   "metadata": {
    "scrolled": true
   },
   "outputs": [],
   "source": [
    "!pip install bitsandbytes==0.41.1\n",
    "!pip install transformers==4.38.1\n",
    "!pip install accelerate==0.27.2"
   ]
  },
  {
   "cell_type": "code",
   "execution_count": null,
   "id": "9016d9fe",
   "metadata": {
    "scrolled": true
   },
   "outputs": [],
   "source": [
    "!pip install -U bitsandbytes\n",
    "!pip install -U accelerate transformers datasets peft trl"
   ]
  },
  {
   "cell_type": "code",
   "execution_count": null,
   "id": "9ec6ef84",
   "metadata": {},
   "outputs": [],
   "source": [
    "# 🛠️ Install required libraries\n",
    "# !pip install -q bitsandbytes accelerate datasets peft transformers trl\n",
    "\n",
    "import torch\n",
    "from datasets import load_dataset, Dataset\n",
    "from transformers import (\n",
    "    AutoTokenizer,\n",
    "    AutoModelForCausalLM,\n",
    "    TrainingArguments\n",
    ")\n",
    "from peft import (\n",
    "    prepare_model_for_kbit_training,\n",
    "    LoraConfig,\n",
    "    get_peft_model\n",
    ")\n",
    "from trl import SFTTrainer\n",
    "from transformers import BitsAndBytesConfig\n",
    "import warnings\n",
    "warnings.filterwarnings(\"ignore\")"
   ]
  },
  {
   "cell_type": "code",
   "execution_count": null,
   "id": "d115e600",
   "metadata": {},
   "outputs": [],
   "source": [
    "#load and preprocess dataset\n",
    "\n",
    "dataset = load_dataset(\"knkarthick/samsum\")\n",
    "\n",
    "def format_data(example):\n",
    "    example[\"text\"] = f\"Summarize the following conversation:\\n\\n{example['dialogue']}\\n\\nSummary:\"\n",
    "    example[\"labels\"] = example[\"summary\"]\n",
    "    return example\n",
    "\n",
    "dataset = dataset.map(format_data)"
   ]
  },
  {
   "cell_type": "code",
   "execution_count": null,
   "id": "40dffc59",
   "metadata": {},
   "outputs": [],
   "source": [
    "#load tokenizer\n",
    "\n",
    "model_id = \"mistralai/Mistral-7B-Instruct-v0.1\"\n",
    "tokenizer = AutoTokenizer.from_pretrained(model_id)\n",
    "tokenizer.pad_token = tokenizer.eos_token"
   ]
  },
  {
   "cell_type": "code",
   "execution_count": null,
   "id": "309c46d2",
   "metadata": {},
   "outputs": [],
   "source": [
    "#quantization + lora config\n",
    "\n",
    "bnb_config = BitsAndBytesConfig(\n",
    "    load_in_4bit=True,\n",
    "   # bnb_4bit_quant_type=\"nf4\",\n",
    "    bnb_4bit_use_double_quant=True,\n",
    "    bnb_4bit_compute_dtype=torch.bfloat16,\n",
    ")\n",
    "\n",
    "\n",
    "lora_config = LoraConfig(\n",
    "    r=16,\n",
    "    lora_alpha=32,\n",
    "    target_modules=[\"q_proj\", \"v_proj\"],\n",
    "    lora_dropout=0.05,\n",
    "    bias=\"none\",\n",
    "    task_type=\"CAUSAL_LM\",\n",
    ")"
   ]
  },
  {
   "cell_type": "code",
   "execution_count": null,
   "id": "3b8ce639",
   "metadata": {},
   "outputs": [],
   "source": [
    "# load mistral model and prepare for QLoRA\n",
    "\n",
    "model = AutoModelForCausalLM.from_pretrained(\n",
    "    model_id,\n",
    "    quantization_config=bnb_config,\n",
    "    device_map=\"auto\",\n",
    "    trust_remote_code=True\n",
    ")\n",
    "\n",
    "model = prepare_model_for_kbit_training(model)\n",
    "model = get_peft_model(model, lora_config)"
   ]
  },
  {
   "cell_type": "code",
   "execution_count": null,
   "id": "9295052b",
   "metadata": {},
   "outputs": [],
   "source": [
    "# Tokenize the dataset\n",
    "\n",
    "def tokenize(example):\n",
    "    input = tokenizer(example[\"text\"], padding=\"max_length\", truncation=True, max_length=512)\n",
    "    label = tokenizer(example[\"labels\"], padding=\"max_length\", truncation=True, max_length=128)\n",
    "    input[\"labels\"] = label[\"input_ids\"]\n",
    "    return input\n",
    "\n",
    "tokenized_dataset = dataset.map(tokenize, batched=True)"
   ]
  },
  {
   "cell_type": "code",
   "execution_count": null,
   "id": "9f09a1d3",
   "metadata": {},
   "outputs": [],
   "source": [
    "# Finetune with SFT trainer\n",
    "\n",
    "training_args = TrainingArguments(\n",
    "    output_dir=\"./mistral_qlora_samsum\",\n",
    "    per_device_train_batch_size=2,\n",
    "    per_device_eval_batch_size=2,\n",
    "    num_train_epochs=2,\n",
    "    evaluation_strategy=\"epoch\",\n",
    "    save_strategy=\"epoch\",\n",
    "    logging_dir=\"./logs\",\n",
    "    learning_rate=2e-4,\n",
    "    bf16=True,\n",
    "    push_to_hub=False,\n",
    "    report_to=\"none\"\n",
    ")\n",
    "\n",
    "trainer = SFTTrainer(\n",
    "    model=model,\n",
    "    tokenizer=tokenizer,\n",
    "    args=training_args,\n",
    "    train_dataset=tokenized_dataset[\"train\"],\n",
    "    eval_dataset=tokenized_dataset[\"test\"],\n",
    "    dataset_text_field=\"text\"\n",
    ")\n",
    "\n",
    "trainer.train()"
   ]
  },
  {
   "cell_type": "code",
   "execution_count": null,
   "id": "5d087fd0",
   "metadata": {},
   "outputs": [],
   "source": [
    "# Rogue Evaluation\n",
    "rouge = load_metric(\"rouge\")\n",
    "\n",
    "def compute_rouge(preds, refs):\n",
    "    scores = rouge.compute(predictions=preds, references=refs, use_stemmer=True)\n",
    "    for k, v in scores.items():\n",
    "        print(f\"{k}: {v.mid.fmeasure:.4f}\")\n",
    "\n",
    "def generate_predictions(model, dataset, tokenizer, max_samples=50):\n",
    "    inputs = [f\"Summarize the following conversation:\\n\\n{x['dialogue']}\\n\\nSummary:\" for x in dataset]\n",
    "    inputs = tokenizer(inputs, return_tensors=\"pt\", padding=True, truncation=True).to(model.device)\n",
    "    outputs = model.generate(\n",
    "        input_ids=inputs['input_ids'],\n",
    "        attention_mask=inputs['attention_mask'],\n",
    "        max_new_tokens=60,\n",
    "        do_sample=True,\n",
    "        top_p=0.9,\n",
    "        temperature=0.7\n",
    "    )\n",
    "    preds = tokenizer.batch_decode(outputs, skip_special_tokens=True)\n",
    "    refs = [x['summary'] for x in dataset]\n",
    "    return preds, refs\n",
    "\n",
    "sample_data = dataset['test'].select(range(50))\n",
    "preds, refs = generate_predictions(model, sample_data, tokenizer)\n",
    "compute_rouge(preds, refs)"
   ]
  },
  {
   "cell_type": "code",
   "execution_count": null,
   "id": "e5b0024f",
   "metadata": {},
   "outputs": [],
   "source": [
    "# Sample inference\n",
    "\n",
    "sample = dataset['test'][0]\n",
    "print(\"Dialogue:\\n\", sample['dialogue'])\n",
    "\n",
    "input_prompt = f\"Summarize the following conversation:\\n\\n{sample['dialogue']}\\n\\nSummary:\"\n",
    "inputs = tokenizer(input_prompt, return_tensors=\"pt\").to(model.device)\n",
    "\n",
    "output = model.generate(\n",
    "    input_ids=inputs['input_ids'],\n",
    "    attention_mask=inputs['attention_mask'],\n",
    "    max_new_tokens=60,\n",
    "    do_sample=True,\n",
    "    top_p=0.9,\n",
    "    temperature=0.7\n",
    ")\n",
    "\n",
    "print(\"\\nGenerated Summary:\\n\", tokenizer.decode(output[0], skip_special_tokens=True))\n",
    "print(\"\\nReference Summary:\\n\", sample['summary'])"
   ]
  },
  {
   "cell_type": "code",
   "execution_count": null,
   "id": "cca21864",
   "metadata": {},
   "outputs": [],
   "source": [
    "# Save the finetuned QLoRA Model\n",
    "model.save_pretrained(\"./mistral-qlora-samsum-adapter\")\n",
    "tokenizer.save_pretrained(\"./mistral-qlora-samsum-adapter\")"
   ]
  },
  {
   "cell_type": "code",
   "execution_count": null,
   "id": "28ea5676",
   "metadata": {},
   "outputs": [],
   "source": []
  },
  {
   "cell_type": "code",
   "execution_count": null,
   "id": "c0bb2620",
   "metadata": {},
   "outputs": [],
   "source": []
  }
 ],
 "metadata": {
  "kernelspec": {
   "display_name": "Python 3 (ipykernel)",
   "language": "python",
   "name": "python3"
  },
  "language_info": {
   "codemirror_mode": {
    "name": "ipython",
    "version": 3
   },
   "file_extension": ".py",
   "mimetype": "text/x-python",
   "name": "python",
   "nbconvert_exporter": "python",
   "pygments_lexer": "ipython3",
   "version": "3.10.9"
  }
 },
 "nbformat": 4,
 "nbformat_minor": 5
}
